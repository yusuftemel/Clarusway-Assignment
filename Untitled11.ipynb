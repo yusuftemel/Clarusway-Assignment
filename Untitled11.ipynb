{
  "nbformat": 4,
  "nbformat_minor": 0,
  "metadata": {
    "colab": {
      "name": "Untitled11.ipynb",
      "provenance": [],
      "authorship_tag": "ABX9TyOc7NC+SPhCemgoRFzb7yHD",
      "include_colab_link": true
    },
    "kernelspec": {
      "name": "python3",
      "display_name": "Python 3"
    },
    "language_info": {
      "name": "python"
    }
  },
  "cells": [
    {
      "cell_type": "markdown",
      "metadata": {
        "id": "view-in-github",
        "colab_type": "text"
      },
      "source": [
        "<a href=\"https://colab.research.google.com/github/yusuftemel/Clarusway-Assignment/blob/main/Untitled11.ipynb\" target=\"_parent\"><img src=\"https://colab.research.google.com/assets/colab-badge.svg\" alt=\"Open In Colab\"/></a>"
      ]
    },
    {
      "cell_type": "code",
      "execution_count": null,
      "metadata": {
        "id": "kpI3CbjArGQr"
      },
      "outputs": [],
      "source": [
        "artık_yıl = int((input(\"yılı giriniz: \")))\n",
        "if artık_yıl % 400 :\n",
        "    print(True)\n",
        "else : \n",
        "    print(False)"
      ]
    },
    {
      "cell_type": "markdown",
      "source": [
        ""
      ],
      "metadata": {
        "id": "1GGRtstQrQu6"
      }
    },
    {
      "cell_type": "code",
      "source": [
        ""
      ],
      "metadata": {
        "id": "k5sxqSxerRUj"
      },
      "execution_count": null,
      "outputs": []
    },
    {
      "cell_type": "code",
      "source": [
        "type(input(\"bana yaz: \"))"
      ],
      "metadata": {
        "id": "fYeJcPjqrIwu",
        "colab": {
          "base_uri": "https://localhost:8080/"
        },
        "outputId": "dc9d7060-26f6-4891-9f1d-c1d6e756c9ba"
      },
      "execution_count": null,
      "outputs": [
        {
          "name": "stdout",
          "output_type": "stream",
          "text": [
            "bana yaz: 12\n"
          ]
        },
        {
          "output_type": "execute_result",
          "data": {
            "text/plain": [
              "str"
            ]
          },
          "metadata": {},
          "execution_count": 1
        }
      ]
    },
    {
      "cell_type": "code",
      "source": [
        "print(\"Henry\" ==\"henry\")"
      ],
      "metadata": {
        "id": "ZYMEBOl-rJGV",
        "colab": {
          "base_uri": "https://localhost:8080/"
        },
        "outputId": "98f07437-7f9a-4e42-c7b3-58adc89773a7"
      },
      "execution_count": null,
      "outputs": [
        {
          "output_type": "stream",
          "name": "stdout",
          "text": [
            "False\n"
          ]
        }
      ]
    },
    {
      "cell_type": "code",
      "source": [
        "set1 = set(\"twelve plus one\")\n",
        "set2 = set( \"eleven plus two\")\n",
        "if set1 == set2 :\n",
        "   print(\"we are the same\")"
      ],
      "metadata": {
        "id": "IJURW1s0rJJW",
        "colab": {
          "base_uri": "https://localhost:8080/"
        },
        "outputId": "c3a9407e-8888-403d-d4de-87aa40b4f90b"
      },
      "execution_count": null,
      "outputs": [
        {
          "output_type": "stream",
          "name": "stdout",
          "text": [
            "we are the same\n"
          ]
        }
      ]
    },
    {
      "cell_type": "code",
      "source": [
        "print(f\"You entered {input('Enter Yes or No :').title().strip() == 'Yes'}\")"
      ],
      "metadata": {
        "id": "_e3zWcHtrJMW",
        "colab": {
          "base_uri": "https://localhost:8080/",
          "height": 536
        },
        "outputId": "c8d26531-593b-4b41-b9a5-e95b78110892"
      },
      "execution_count": null,
      "outputs": [
        {
          "output_type": "error",
          "ename": "KeyboardInterrupt",
          "evalue": "ignored",
          "traceback": [
            "\u001b[0;31m---------------------------------------------------------------------------\u001b[0m",
            "\u001b[0;31mKeyboardInterrupt\u001b[0m                         Traceback (most recent call last)",
            "\u001b[0;32m/usr/local/lib/python3.7/dist-packages/ipykernel/kernelbase.py\u001b[0m in \u001b[0;36m_input_request\u001b[0;34m(self, prompt, ident, parent, password)\u001b[0m\n\u001b[1;32m    728\u001b[0m             \u001b[0;32mtry\u001b[0m\u001b[0;34m:\u001b[0m\u001b[0;34m\u001b[0m\u001b[0;34m\u001b[0m\u001b[0m\n\u001b[0;32m--> 729\u001b[0;31m                 \u001b[0mident\u001b[0m\u001b[0;34m,\u001b[0m \u001b[0mreply\u001b[0m \u001b[0;34m=\u001b[0m \u001b[0mself\u001b[0m\u001b[0;34m.\u001b[0m\u001b[0msession\u001b[0m\u001b[0;34m.\u001b[0m\u001b[0mrecv\u001b[0m\u001b[0;34m(\u001b[0m\u001b[0mself\u001b[0m\u001b[0;34m.\u001b[0m\u001b[0mstdin_socket\u001b[0m\u001b[0;34m,\u001b[0m \u001b[0;36m0\u001b[0m\u001b[0;34m)\u001b[0m\u001b[0;34m\u001b[0m\u001b[0;34m\u001b[0m\u001b[0m\n\u001b[0m\u001b[1;32m    730\u001b[0m             \u001b[0;32mexcept\u001b[0m \u001b[0mException\u001b[0m\u001b[0;34m:\u001b[0m\u001b[0;34m\u001b[0m\u001b[0;34m\u001b[0m\u001b[0m\n",
            "\u001b[0;32m/usr/local/lib/python3.7/dist-packages/jupyter_client/session.py\u001b[0m in \u001b[0;36mrecv\u001b[0;34m(self, socket, mode, content, copy)\u001b[0m\n\u001b[1;32m    802\u001b[0m         \u001b[0;32mtry\u001b[0m\u001b[0;34m:\u001b[0m\u001b[0;34m\u001b[0m\u001b[0;34m\u001b[0m\u001b[0m\n\u001b[0;32m--> 803\u001b[0;31m             \u001b[0mmsg_list\u001b[0m \u001b[0;34m=\u001b[0m \u001b[0msocket\u001b[0m\u001b[0;34m.\u001b[0m\u001b[0mrecv_multipart\u001b[0m\u001b[0;34m(\u001b[0m\u001b[0mmode\u001b[0m\u001b[0;34m,\u001b[0m \u001b[0mcopy\u001b[0m\u001b[0;34m=\u001b[0m\u001b[0mcopy\u001b[0m\u001b[0;34m)\u001b[0m\u001b[0;34m\u001b[0m\u001b[0;34m\u001b[0m\u001b[0m\n\u001b[0m\u001b[1;32m    804\u001b[0m         \u001b[0;32mexcept\u001b[0m \u001b[0mzmq\u001b[0m\u001b[0;34m.\u001b[0m\u001b[0mZMQError\u001b[0m \u001b[0;32mas\u001b[0m \u001b[0me\u001b[0m\u001b[0;34m:\u001b[0m\u001b[0;34m\u001b[0m\u001b[0;34m\u001b[0m\u001b[0m\n",
            "\u001b[0;32m/usr/local/lib/python3.7/dist-packages/zmq/sugar/socket.py\u001b[0m in \u001b[0;36mrecv_multipart\u001b[0;34m(self, flags, copy, track)\u001b[0m\n\u001b[1;32m    723\u001b[0m         \"\"\"\n\u001b[0;32m--> 724\u001b[0;31m         \u001b[0mparts\u001b[0m \u001b[0;34m=\u001b[0m \u001b[0;34m[\u001b[0m\u001b[0mself\u001b[0m\u001b[0;34m.\u001b[0m\u001b[0mrecv\u001b[0m\u001b[0;34m(\u001b[0m\u001b[0mflags\u001b[0m\u001b[0;34m,\u001b[0m \u001b[0mcopy\u001b[0m\u001b[0;34m=\u001b[0m\u001b[0mcopy\u001b[0m\u001b[0;34m,\u001b[0m \u001b[0mtrack\u001b[0m\u001b[0;34m=\u001b[0m\u001b[0mtrack\u001b[0m\u001b[0;34m)\u001b[0m\u001b[0;34m]\u001b[0m\u001b[0;34m\u001b[0m\u001b[0;34m\u001b[0m\u001b[0m\n\u001b[0m\u001b[1;32m    725\u001b[0m         \u001b[0;31m# have first part already, only loop while more to receive\u001b[0m\u001b[0;34m\u001b[0m\u001b[0;34m\u001b[0m\u001b[0;34m\u001b[0m\u001b[0m\n",
            "\u001b[0;32mzmq/backend/cython/socket.pyx\u001b[0m in \u001b[0;36mzmq.backend.cython.socket.Socket.recv\u001b[0;34m()\u001b[0m\n",
            "\u001b[0;32mzmq/backend/cython/socket.pyx\u001b[0m in \u001b[0;36mzmq.backend.cython.socket.Socket.recv\u001b[0;34m()\u001b[0m\n",
            "\u001b[0;32mzmq/backend/cython/socket.pyx\u001b[0m in \u001b[0;36mzmq.backend.cython.socket._recv_copy\u001b[0;34m()\u001b[0m\n",
            "\u001b[0;32m/usr/local/lib/python3.7/dist-packages/zmq/backend/cython/checkrc.pxd\u001b[0m in \u001b[0;36mzmq.backend.cython.checkrc._check_rc\u001b[0;34m()\u001b[0m\n",
            "\u001b[0;31mKeyboardInterrupt\u001b[0m: ",
            "\nDuring handling of the above exception, another exception occurred:\n",
            "\u001b[0;31mKeyboardInterrupt\u001b[0m                         Traceback (most recent call last)",
            "\u001b[0;32m<ipython-input-6-d6eed93a29e1>\u001b[0m in \u001b[0;36m<module>\u001b[0;34m()\u001b[0m\n\u001b[0;32m----> 1\u001b[0;31m \u001b[0mprint\u001b[0m\u001b[0;34m(\u001b[0m\u001b[0;34mf\"You entered {input('Enter Yes or No :').title().strip() == 'Yes'}\"\u001b[0m\u001b[0;34m)\u001b[0m\u001b[0;34m\u001b[0m\u001b[0;34m\u001b[0m\u001b[0m\n\u001b[0m",
            "\u001b[0;32m/usr/local/lib/python3.7/dist-packages/ipykernel/kernelbase.py\u001b[0m in \u001b[0;36mraw_input\u001b[0;34m(self, prompt)\u001b[0m\n\u001b[1;32m    702\u001b[0m             \u001b[0mself\u001b[0m\u001b[0;34m.\u001b[0m\u001b[0m_parent_ident\u001b[0m\u001b[0;34m,\u001b[0m\u001b[0;34m\u001b[0m\u001b[0;34m\u001b[0m\u001b[0m\n\u001b[1;32m    703\u001b[0m             \u001b[0mself\u001b[0m\u001b[0;34m.\u001b[0m\u001b[0m_parent_header\u001b[0m\u001b[0;34m,\u001b[0m\u001b[0;34m\u001b[0m\u001b[0;34m\u001b[0m\u001b[0m\n\u001b[0;32m--> 704\u001b[0;31m             \u001b[0mpassword\u001b[0m\u001b[0;34m=\u001b[0m\u001b[0;32mFalse\u001b[0m\u001b[0;34m,\u001b[0m\u001b[0;34m\u001b[0m\u001b[0;34m\u001b[0m\u001b[0m\n\u001b[0m\u001b[1;32m    705\u001b[0m         )\n\u001b[1;32m    706\u001b[0m \u001b[0;34m\u001b[0m\u001b[0m\n",
            "\u001b[0;32m/usr/local/lib/python3.7/dist-packages/ipykernel/kernelbase.py\u001b[0m in \u001b[0;36m_input_request\u001b[0;34m(self, prompt, ident, parent, password)\u001b[0m\n\u001b[1;32m    732\u001b[0m             \u001b[0;32mexcept\u001b[0m \u001b[0mKeyboardInterrupt\u001b[0m\u001b[0;34m:\u001b[0m\u001b[0;34m\u001b[0m\u001b[0;34m\u001b[0m\u001b[0m\n\u001b[1;32m    733\u001b[0m                 \u001b[0;31m# re-raise KeyboardInterrupt, to truncate traceback\u001b[0m\u001b[0;34m\u001b[0m\u001b[0;34m\u001b[0m\u001b[0;34m\u001b[0m\u001b[0m\n\u001b[0;32m--> 734\u001b[0;31m                 \u001b[0;32mraise\u001b[0m \u001b[0mKeyboardInterrupt\u001b[0m\u001b[0;34m\u001b[0m\u001b[0;34m\u001b[0m\u001b[0m\n\u001b[0m\u001b[1;32m    735\u001b[0m             \u001b[0;32melse\u001b[0m\u001b[0;34m:\u001b[0m\u001b[0;34m\u001b[0m\u001b[0;34m\u001b[0m\u001b[0m\n\u001b[1;32m    736\u001b[0m                 \u001b[0;32mbreak\u001b[0m\u001b[0;34m\u001b[0m\u001b[0;34m\u001b[0m\u001b[0m\n",
            "\u001b[0;31mKeyboardInterrupt\u001b[0m: "
          ]
        }
      ]
    },
    {
      "cell_type": "code",
      "source": [
        "print(f\"You entered {input('Enter Yes or No :').title().strip() == 'Yes'}\")"
      ],
      "metadata": {
        "id": "81wpapIkrJiH",
        "colab": {
          "base_uri": "https://localhost:8080/"
        },
        "outputId": "cf66ef21-fd33-4bfa-d65d-a3ef5fd0cdca"
      },
      "execution_count": null,
      "outputs": [
        {
          "output_type": "stream",
          "name": "stdout",
          "text": [
            "Enter Yes or No :Yes\n",
            "You entered True\n"
          ]
        }
      ]
    },
    {
      "cell_type": "code",
      "source": [
        "convert = input('Enter Yes or No :').title().strip() == \"Yes\""
      ],
      "metadata": {
        "id": "4Y2geL4rrJlM",
        "colab": {
          "base_uri": "https://localhost:8080/"
        },
        "outputId": "6ece1579-87be-4ee3-ddbc-6fc1250f4672"
      },
      "execution_count": null,
      "outputs": [
        {
          "name": "stdout",
          "output_type": "stream",
          "text": [
            "Enter Yes or No :   YEs\n"
          ]
        }
      ]
    },
    {
      "cell_type": "code",
      "source": [
        ""
      ],
      "metadata": {
        "id": "CjfbdLkYrJoT",
        "colab": {
          "base_uri": "https://localhost:8080/"
        },
        "outputId": "3704e83f-04ab-46c4-b1be-9574f2a68da7"
      },
      "execution_count": null,
      "outputs": [
        {
          "output_type": "stream",
          "name": "stdout",
          "text": [
            "Enter Yes or No :yes \n",
            "You entered True\n"
          ]
        }
      ]
    },
    {
      "cell_type": "code",
      "source": [
        "convert = input('Enter Yes or No :').title().strip() == 'Yes'\n",
        "print(f\"You entered {convert}\")"
      ],
      "metadata": {
        "id": "GQP7J9j6rJrY",
        "colab": {
          "base_uri": "https://localhost:8080/"
        },
        "outputId": "021bf160-ca31-400b-f65e-d242ae3e2383"
      },
      "execution_count": null,
      "outputs": [
        {
          "output_type": "stream",
          "name": "stdout",
          "text": [
            "Enter Yes or No :NO\n",
            "You entered False\n"
          ]
        }
      ]
    },
    {
      "cell_type": "code",
      "source": [
        "x = list(range(1, 10))\n",
        "print(x)"
      ],
      "metadata": {
        "colab": {
          "base_uri": "https://localhost:8080/"
        },
        "id": "2OCSsc8fV67v",
        "outputId": "63b743fc-cdba-46cb-a908-0a9710c9a1b8"
      },
      "execution_count": null,
      "outputs": [
        {
          "output_type": "stream",
          "name": "stdout",
          "text": [
            "[1, 2, 3, 4, 5, 6, 7, 8, 9]\n"
          ]
        }
      ]
    },
    {
      "cell_type": "code",
      "source": [
        "print(x)"
      ],
      "metadata": {
        "colab": {
          "base_uri": "https://localhost:8080/",
          "height": 165
        },
        "id": "Qip7yz38V7eT",
        "outputId": "815f98b6-707f-4c54-9e94-b3f6fe0bec22"
      },
      "execution_count": null,
      "outputs": [
        {
          "output_type": "error",
          "ename": "NameError",
          "evalue": "ignored",
          "traceback": [
            "\u001b[0;31m---------------------------------------------------------------------------\u001b[0m",
            "\u001b[0;31mNameError\u001b[0m                                 Traceback (most recent call last)",
            "\u001b[0;32m<ipython-input-20-fc17d851ef81>\u001b[0m in \u001b[0;36m<module>\u001b[0;34m()\u001b[0m\n\u001b[0;32m----> 1\u001b[0;31m \u001b[0mprint\u001b[0m\u001b[0;34m(\u001b[0m\u001b[0mx\u001b[0m\u001b[0;34m)\u001b[0m\u001b[0;34m\u001b[0m\u001b[0;34m\u001b[0m\u001b[0m\n\u001b[0m",
            "\u001b[0;31mNameError\u001b[0m: name 'x' is not defined"
          ]
        }
      ]
    },
    {
      "cell_type": "code",
      "source": [
        ""
      ],
      "metadata": {
        "id": "RX7exIz3V7zv"
      },
      "execution_count": null,
      "outputs": []
    },
    {
      "cell_type": "code",
      "source": [
        ""
      ],
      "metadata": {
        "id": "KNPn3SAeV76Z"
      },
      "execution_count": null,
      "outputs": []
    },
    {
      "cell_type": "code",
      "source": [
        ""
      ],
      "metadata": {
        "id": "y5L1W0B5V7-R"
      },
      "execution_count": null,
      "outputs": []
    },
    {
      "cell_type": "code",
      "source": [
        "x = list(range(1, 10))\n",
        "print(x)"
      ],
      "metadata": {
        "colab": {
          "base_uri": "https://localhost:8080/"
        },
        "id": "8rHE0P0HV8Dc",
        "outputId": "b1709372-9d7e-48e1-b308-97249777b9dd"
      },
      "execution_count": null,
      "outputs": [
        {
          "output_type": "stream",
          "name": "stdout",
          "text": [
            "[1, 2, 3, 4, 5, 6, 7, 8, 9]\n"
          ]
        }
      ]
    },
    {
      "cell_type": "code",
      "source": [
        "x = 3 \n",
        "if x > 11:\n",
        "   print (\"a\")\n",
        "else:\n",
        "   print(\"b\")"
      ],
      "metadata": {
        "colab": {
          "base_uri": "https://localhost:8080/"
        },
        "id": "cgBQMuT1bMgW",
        "outputId": "1c5b03dd-2008-47ca-c6f9-50f3b9fec521"
      },
      "execution_count": null,
      "outputs": [
        {
          "output_type": "stream",
          "name": "stdout",
          "text": [
            "b\n"
          ]
        }
      ]
    },
    {
      "cell_type": "code",
      "source": [
        "print(x)"
      ],
      "metadata": {
        "colab": {
          "base_uri": "https://localhost:8080/"
        },
        "id": "HK8IppiKbMlC",
        "outputId": "b26fab1f-4a02-4e25-bbe7-4b6b7ecb19ce"
      },
      "execution_count": null,
      "outputs": [
        {
          "output_type": "stream",
          "name": "stdout",
          "text": [
            "[1, 2, 3, 4, 5, 6, 7, 8, 9]\n"
          ]
        }
      ]
    },
    {
      "cell_type": "code",
      "source": [
        "number = float(input(\"Enter a number: \"))\n",
        "if number > 0 :\n",
        "      print(\"İt is a pozotof numner\")\n",
        "else:\n",
        "      print(\"it is a negative number\")\n",
        "\n",
        "     "
      ],
      "metadata": {
        "colab": {
          "base_uri": "https://localhost:8080/"
        },
        "id": "M7xQY7U3bMqW",
        "outputId": "bfb32079-6490-4251-f6f0-1e9200acc67d"
      },
      "execution_count": null,
      "outputs": [
        {
          "output_type": "stream",
          "name": "stdout",
          "text": [
            "Enter a number: -2\n",
            "it is a negative number\n"
          ]
        }
      ]
    },
    {
      "cell_type": "code",
      "source": [
        "num1 = float(input(\"Enter first number: \"))\n",
        "num2 = float(input(\"Enter second number: \"))\n",
        "if num1 > num2 : \n",
        "    larger = num1\n",
        "else : \n",
        "    larger = num2\n",
        "print(\"The larger number is\", larger)\n",
        "\n"
      ],
      "metadata": {
        "colab": {
          "base_uri": "https://localhost:8080/"
        },
        "id": "YllVt0KVbUMp",
        "outputId": "72f6b16d-e097-488c-ab01-3d46325a4c0e"
      },
      "execution_count": null,
      "outputs": [
        {
          "output_type": "stream",
          "name": "stdout",
          "text": [
            "Enter first number: 6\n",
            "Enter second number: 12\n",
            "The larger number is 12.0\n"
          ]
        }
      ]
    },
    {
      "cell_type": "code",
      "source": [
        "bool_value = True\n",
        "if bool_value:\n",
        "  print(\"Yes\")\n",
        "else:\n",
        "  print(\"No\")\n"
      ],
      "metadata": {
        "colab": {
          "base_uri": "https://localhost:8080/"
        },
        "id": "IUYXCbucbUSF",
        "outputId": "960430d6-ad0d-4336-fbf6-3430fa1fbd0f"
      },
      "execution_count": null,
      "outputs": [
        {
          "output_type": "stream",
          "name": "stdout",
          "text": [
            "Yes\n"
          ]
        }
      ]
    },
    {
      "cell_type": "code",
      "source": [
        "set()"
      ],
      "metadata": {
        "colab": {
          "base_uri": "https://localhost:8080/"
        },
        "id": "tvk-wTVvbUYE",
        "outputId": "face4ca9-1760-4997-c0bc-e9dad902fbef"
      },
      "execution_count": null,
      "outputs": [
        {
          "output_type": "execute_result",
          "data": {
            "text/plain": [
              "set()"
            ]
          },
          "metadata": {},
          "execution_count": 44
        }
      ]
    },
    {
      "cell_type": "code",
      "source": [
        "a = {}"
      ],
      "metadata": {
        "id": "wbAUrHYFbUcR"
      },
      "execution_count": null,
      "outputs": []
    },
    {
      "cell_type": "code",
      "source": [
        "print(a)"
      ],
      "metadata": {
        "colab": {
          "base_uri": "https://localhost:8080/"
        },
        "id": "cr0bJ73WbUkx",
        "outputId": "34ce59b0-dfe5-4622-99a5-72def07953e5"
      },
      "execution_count": null,
      "outputs": [
        {
          "output_type": "stream",
          "name": "stdout",
          "text": [
            "{}\n"
          ]
        }
      ]
    },
    {
      "cell_type": "code",
      "source": [
        "set()"
      ],
      "metadata": {
        "colab": {
          "base_uri": "https://localhost:8080/"
        },
        "id": "S5IEAUi5bUr8",
        "outputId": "16ca8c10-d9f6-4ea2-8ddd-2e0d38c45ba0"
      },
      "execution_count": null,
      "outputs": [
        {
          "output_type": "execute_result",
          "data": {
            "text/plain": [
              "set()"
            ]
          },
          "metadata": {},
          "execution_count": 50
        }
      ]
    },
    {
      "cell_type": "code",
      "source": [
        "num1 = int(input(\"Enter a number: \" ))\n",
        "if num1 < 0 :\n",
        "  print(\"The negative number is\", num1 )\n",
        "elif num1 > 0 :\n",
        "  print(\"The positive number is\", num1 ) \n",
        "else:\n",
        "  print(\"The number is Zero\" ) "
      ],
      "metadata": {
        "colab": {
          "base_uri": "https://localhost:8080/"
        },
        "id": "yeomAomLqQf0",
        "outputId": "ac30f965-439a-42bf-d322-d8b96ae105a5"
      },
      "execution_count": null,
      "outputs": [
        {
          "output_type": "stream",
          "name": "stdout",
          "text": [
            "Enter a number: 0\n",
            "The number is Zero\n"
          ]
        }
      ]
    },
    {
      "cell_type": "code",
      "source": [
        "num1 = int(input(\"Enter a number :\"))\n",
        "num2 = int(input(\"Enter a number :\"))\n",
        "if num1 % 2 == 0 :\n",
        "    print(\"{} is even\".format(num1))\n",
        "    \n",
        "else :\n",
        "    print(\"{} is odd\".format(num))\n"
      ],
      "metadata": {
        "id": "tDsJ1Sn-qQnz",
        "colab": {
          "base_uri": "https://localhost:8080/"
        },
        "outputId": "24937b76-58c1-4ce2-a1ff-bf1226455d30"
      },
      "execution_count": null,
      "outputs": [
        {
          "output_type": "stream",
          "name": "stdout",
          "text": [
            "Enter a number :-1\n",
            "-1 is odd\n"
          ]
        }
      ]
    },
    {
      "cell_type": "code",
      "source": [
        "num = float(input(\"Enter a number :\"))\n",
        "\n",
        "if num > 0 :\n",
        "    print(\"It is a positive number.\")\n",
        "elif num == 0:\n",
        "    print (\"it is zero\")    \n",
        "else : \n",
        "    print(\"It is a negative number.\")"
      ],
      "metadata": {
        "id": "4UBLD0KhqQwh",
        "colab": {
          "base_uri": "https://localhost:8080/"
        },
        "outputId": "7e4c036d-189c-4341-a6fb-59bdee930a42"
      },
      "execution_count": null,
      "outputs": [
        {
          "output_type": "stream",
          "name": "stdout",
          "text": [
            "Enter a number :-4\n",
            "It is a negative number.\n"
          ]
        }
      ]
    },
    {
      "cell_type": "code",
      "source": [
        "num1 = int(input(\"Enter first number :\"))\n",
        "num2 = int(input(\"Enter second number :\"))\n",
        "\n",
        "if num1 > num2 :\n",
        "    larger = num1\n",
        "    \n",
        "else :\n",
        "    larger = num2\n",
        "    \n",
        "print(\"The larger number is \", larger)"
      ],
      "metadata": {
        "id": "3uMounzrqQ2b",
        "colab": {
          "base_uri": "https://localhost:8080/",
          "height": 536
        },
        "outputId": "630f910a-ec37-4959-85fc-810b0ce9117c"
      },
      "execution_count": null,
      "outputs": [
        {
          "output_type": "error",
          "ename": "KeyboardInterrupt",
          "evalue": "ignored",
          "traceback": [
            "\u001b[0;31m---------------------------------------------------------------------------\u001b[0m",
            "\u001b[0;31mKeyboardInterrupt\u001b[0m                         Traceback (most recent call last)",
            "\u001b[0;32m/usr/local/lib/python3.7/dist-packages/ipykernel/kernelbase.py\u001b[0m in \u001b[0;36m_input_request\u001b[0;34m(self, prompt, ident, parent, password)\u001b[0m\n\u001b[1;32m    728\u001b[0m             \u001b[0;32mtry\u001b[0m\u001b[0;34m:\u001b[0m\u001b[0;34m\u001b[0m\u001b[0;34m\u001b[0m\u001b[0m\n\u001b[0;32m--> 729\u001b[0;31m                 \u001b[0mident\u001b[0m\u001b[0;34m,\u001b[0m \u001b[0mreply\u001b[0m \u001b[0;34m=\u001b[0m \u001b[0mself\u001b[0m\u001b[0;34m.\u001b[0m\u001b[0msession\u001b[0m\u001b[0;34m.\u001b[0m\u001b[0mrecv\u001b[0m\u001b[0;34m(\u001b[0m\u001b[0mself\u001b[0m\u001b[0;34m.\u001b[0m\u001b[0mstdin_socket\u001b[0m\u001b[0;34m,\u001b[0m \u001b[0;36m0\u001b[0m\u001b[0;34m)\u001b[0m\u001b[0;34m\u001b[0m\u001b[0;34m\u001b[0m\u001b[0m\n\u001b[0m\u001b[1;32m    730\u001b[0m             \u001b[0;32mexcept\u001b[0m \u001b[0mException\u001b[0m\u001b[0;34m:\u001b[0m\u001b[0;34m\u001b[0m\u001b[0;34m\u001b[0m\u001b[0m\n",
            "\u001b[0;32m/usr/local/lib/python3.7/dist-packages/jupyter_client/session.py\u001b[0m in \u001b[0;36mrecv\u001b[0;34m(self, socket, mode, content, copy)\u001b[0m\n\u001b[1;32m    802\u001b[0m         \u001b[0;32mtry\u001b[0m\u001b[0;34m:\u001b[0m\u001b[0;34m\u001b[0m\u001b[0;34m\u001b[0m\u001b[0m\n\u001b[0;32m--> 803\u001b[0;31m             \u001b[0mmsg_list\u001b[0m \u001b[0;34m=\u001b[0m \u001b[0msocket\u001b[0m\u001b[0;34m.\u001b[0m\u001b[0mrecv_multipart\u001b[0m\u001b[0;34m(\u001b[0m\u001b[0mmode\u001b[0m\u001b[0;34m,\u001b[0m \u001b[0mcopy\u001b[0m\u001b[0;34m=\u001b[0m\u001b[0mcopy\u001b[0m\u001b[0;34m)\u001b[0m\u001b[0;34m\u001b[0m\u001b[0;34m\u001b[0m\u001b[0m\n\u001b[0m\u001b[1;32m    804\u001b[0m         \u001b[0;32mexcept\u001b[0m \u001b[0mzmq\u001b[0m\u001b[0;34m.\u001b[0m\u001b[0mZMQError\u001b[0m \u001b[0;32mas\u001b[0m \u001b[0me\u001b[0m\u001b[0;34m:\u001b[0m\u001b[0;34m\u001b[0m\u001b[0;34m\u001b[0m\u001b[0m\n",
            "\u001b[0;32m/usr/local/lib/python3.7/dist-packages/zmq/sugar/socket.py\u001b[0m in \u001b[0;36mrecv_multipart\u001b[0;34m(self, flags, copy, track)\u001b[0m\n\u001b[1;32m    723\u001b[0m         \"\"\"\n\u001b[0;32m--> 724\u001b[0;31m         \u001b[0mparts\u001b[0m \u001b[0;34m=\u001b[0m \u001b[0;34m[\u001b[0m\u001b[0mself\u001b[0m\u001b[0;34m.\u001b[0m\u001b[0mrecv\u001b[0m\u001b[0;34m(\u001b[0m\u001b[0mflags\u001b[0m\u001b[0;34m,\u001b[0m \u001b[0mcopy\u001b[0m\u001b[0;34m=\u001b[0m\u001b[0mcopy\u001b[0m\u001b[0;34m,\u001b[0m \u001b[0mtrack\u001b[0m\u001b[0;34m=\u001b[0m\u001b[0mtrack\u001b[0m\u001b[0;34m)\u001b[0m\u001b[0;34m]\u001b[0m\u001b[0;34m\u001b[0m\u001b[0;34m\u001b[0m\u001b[0m\n\u001b[0m\u001b[1;32m    725\u001b[0m         \u001b[0;31m# have first part already, only loop while more to receive\u001b[0m\u001b[0;34m\u001b[0m\u001b[0;34m\u001b[0m\u001b[0;34m\u001b[0m\u001b[0m\n",
            "\u001b[0;32mzmq/backend/cython/socket.pyx\u001b[0m in \u001b[0;36mzmq.backend.cython.socket.Socket.recv\u001b[0;34m()\u001b[0m\n",
            "\u001b[0;32mzmq/backend/cython/socket.pyx\u001b[0m in \u001b[0;36mzmq.backend.cython.socket.Socket.recv\u001b[0;34m()\u001b[0m\n",
            "\u001b[0;32mzmq/backend/cython/socket.pyx\u001b[0m in \u001b[0;36mzmq.backend.cython.socket._recv_copy\u001b[0;34m()\u001b[0m\n",
            "\u001b[0;32m/usr/local/lib/python3.7/dist-packages/zmq/backend/cython/checkrc.pxd\u001b[0m in \u001b[0;36mzmq.backend.cython.checkrc._check_rc\u001b[0;34m()\u001b[0m\n",
            "\u001b[0;31mKeyboardInterrupt\u001b[0m: ",
            "\nDuring handling of the above exception, another exception occurred:\n",
            "\u001b[0;31mKeyboardInterrupt\u001b[0m                         Traceback (most recent call last)",
            "\u001b[0;32m<ipython-input-1-93dce8b3682f>\u001b[0m in \u001b[0;36m<module>\u001b[0;34m()\u001b[0m\n\u001b[0;32m----> 1\u001b[0;31m \u001b[0mnum1\u001b[0m \u001b[0;34m=\u001b[0m \u001b[0mfloat\u001b[0m\u001b[0;34m(\u001b[0m\u001b[0minput\u001b[0m\u001b[0;34m(\u001b[0m\u001b[0;34m\"Enter first number :\"\u001b[0m\u001b[0;34m)\u001b[0m\u001b[0;34m)\u001b[0m\u001b[0;34m\u001b[0m\u001b[0;34m\u001b[0m\u001b[0m\n\u001b[0m\u001b[1;32m      2\u001b[0m \u001b[0mnum2\u001b[0m \u001b[0;34m=\u001b[0m \u001b[0mfloat\u001b[0m\u001b[0;34m(\u001b[0m\u001b[0minput\u001b[0m\u001b[0;34m(\u001b[0m\u001b[0;34m\"Enter second number :\"\u001b[0m\u001b[0;34m)\u001b[0m\u001b[0;34m)\u001b[0m\u001b[0;34m\u001b[0m\u001b[0;34m\u001b[0m\u001b[0m\n\u001b[1;32m      3\u001b[0m \u001b[0;34m\u001b[0m\u001b[0m\n\u001b[1;32m      4\u001b[0m \u001b[0;32mif\u001b[0m \u001b[0mnum1\u001b[0m \u001b[0;34m>\u001b[0m \u001b[0mnum2\u001b[0m \u001b[0;34m:\u001b[0m\u001b[0;34m\u001b[0m\u001b[0;34m\u001b[0m\u001b[0m\n\u001b[1;32m      5\u001b[0m     \u001b[0mlarger\u001b[0m \u001b[0;34m=\u001b[0m \u001b[0mnum1\u001b[0m\u001b[0;34m\u001b[0m\u001b[0;34m\u001b[0m\u001b[0m\n",
            "\u001b[0;32m/usr/local/lib/python3.7/dist-packages/ipykernel/kernelbase.py\u001b[0m in \u001b[0;36mraw_input\u001b[0;34m(self, prompt)\u001b[0m\n\u001b[1;32m    702\u001b[0m             \u001b[0mself\u001b[0m\u001b[0;34m.\u001b[0m\u001b[0m_parent_ident\u001b[0m\u001b[0;34m,\u001b[0m\u001b[0;34m\u001b[0m\u001b[0;34m\u001b[0m\u001b[0m\n\u001b[1;32m    703\u001b[0m             \u001b[0mself\u001b[0m\u001b[0;34m.\u001b[0m\u001b[0m_parent_header\u001b[0m\u001b[0;34m,\u001b[0m\u001b[0;34m\u001b[0m\u001b[0;34m\u001b[0m\u001b[0m\n\u001b[0;32m--> 704\u001b[0;31m             \u001b[0mpassword\u001b[0m\u001b[0;34m=\u001b[0m\u001b[0;32mFalse\u001b[0m\u001b[0;34m,\u001b[0m\u001b[0;34m\u001b[0m\u001b[0;34m\u001b[0m\u001b[0m\n\u001b[0m\u001b[1;32m    705\u001b[0m         )\n\u001b[1;32m    706\u001b[0m \u001b[0;34m\u001b[0m\u001b[0m\n",
            "\u001b[0;32m/usr/local/lib/python3.7/dist-packages/ipykernel/kernelbase.py\u001b[0m in \u001b[0;36m_input_request\u001b[0;34m(self, prompt, ident, parent, password)\u001b[0m\n\u001b[1;32m    732\u001b[0m             \u001b[0;32mexcept\u001b[0m \u001b[0mKeyboardInterrupt\u001b[0m\u001b[0;34m:\u001b[0m\u001b[0;34m\u001b[0m\u001b[0;34m\u001b[0m\u001b[0m\n\u001b[1;32m    733\u001b[0m                 \u001b[0;31m# re-raise KeyboardInterrupt, to truncate traceback\u001b[0m\u001b[0;34m\u001b[0m\u001b[0;34m\u001b[0m\u001b[0;34m\u001b[0m\u001b[0m\n\u001b[0;32m--> 734\u001b[0;31m                 \u001b[0;32mraise\u001b[0m \u001b[0mKeyboardInterrupt\u001b[0m\u001b[0;34m\u001b[0m\u001b[0;34m\u001b[0m\u001b[0m\n\u001b[0m\u001b[1;32m    735\u001b[0m             \u001b[0;32melse\u001b[0m\u001b[0;34m:\u001b[0m\u001b[0;34m\u001b[0m\u001b[0;34m\u001b[0m\u001b[0m\n\u001b[1;32m    736\u001b[0m                 \u001b[0;32mbreak\u001b[0m\u001b[0;34m\u001b[0m\u001b[0;34m\u001b[0m\u001b[0m\n",
            "\u001b[0;31mKeyboardInterrupt\u001b[0m: "
          ]
        }
      ]
    },
    {
      "cell_type": "code",
      "source": [
        "num1 = int(input(\"Enter first number :\"))\n",
        "num2 = int(input(\"Enter second number :\"))\n",
        "\n",
        "if num1 > num2 :\n",
        "    larger = num1\n",
        "    \n",
        "else :\n",
        "    larger = num2\n",
        "    \n",
        "print(\"The larger number is \", larger)"
      ],
      "metadata": {
        "id": "rZIcq5hqsCpG",
        "colab": {
          "base_uri": "https://localhost:8080/"
        },
        "outputId": "be6affe6-7af4-4e1f-b7cf-d936569657a6"
      },
      "execution_count": null,
      "outputs": [
        {
          "output_type": "stream",
          "name": "stdout",
          "text": [
            "Enter first number :12\n",
            "Enter second number :9\n",
            "The larger number is  12\n"
          ]
        }
      ]
    },
    {
      "cell_type": "code",
      "source": [
        "bool_value = True\n",
        "\n",
        "if bool_value :\n",
        "    print(\"Yes\")\n",
        "    \n",
        "else :\n",
        "    print(\"No\")"
      ],
      "metadata": {
        "id": "qCTeuq4UsCt-",
        "colab": {
          "base_uri": "https://localhost:8080/"
        },
        "outputId": "411515e3-246d-4ac9-b0ba-9aaae8095a58"
      },
      "execution_count": null,
      "outputs": [
        {
          "output_type": "stream",
          "name": "stdout",
          "text": [
            "Yes\n"
          ]
        }
      ]
    },
    {
      "cell_type": "code",
      "source": [
        "num1 = float(input(\"Enter first number :\"))\n",
        "num2 = float(input(\"Enter second number :\"))\n",
        "num3 = float(input(\"Enter third number :\"))\n",
        "\n",
        "if (num1 >= num2) and (num1 >= num3) :\n",
        "    largest = num1\n",
        "elif (num2 >= num1) and (num2 >= num3) :\n",
        "    largest = num2\n",
        "else :\n",
        "    largest = num3\n",
        "\n",
        "print(\"The largest number is \", largest)"
      ],
      "metadata": {
        "id": "PMUj-_tksCzv",
        "colab": {
          "base_uri": "https://localhost:8080/"
        },
        "outputId": "2023d9b0-82ee-4b3a-ffd5-6f2f241c3c85"
      },
      "execution_count": null,
      "outputs": [
        {
          "output_type": "stream",
          "name": "stdout",
          "text": [
            "Enter first number :3\n",
            "Enter second number :2\n",
            "Enter third number :1\n",
            "The largest number is  3.0\n"
          ]
        }
      ]
    },
    {
      "cell_type": "code",
      "source": [
        "num = float(input(\"Enter a number :\"))\n",
        "\n",
        "if num > 0 :\n",
        "    print(\"Positive number\")\n",
        "\n",
        "elif num == 0 :\n",
        "    print(\"Zero\")\n",
        "    \n",
        "else : #ELSE satırında condition yoktur. \n",
        "    print(\"Negative\")\n"
      ],
      "metadata": {
        "id": "TslASF_rsC95",
        "colab": {
          "base_uri": "https://localhost:8080/"
        },
        "outputId": "d5a6d305-52ae-4803-898b-3154da6e2809"
      },
      "execution_count": null,
      "outputs": [
        {
          "output_type": "stream",
          "name": "stdout",
          "text": [
            "Enter a number :0\n",
            "Zero\n"
          ]
        }
      ]
    },
    {
      "cell_type": "code",
      "source": [
        "number = input(\"Enter your number: \")\n",
        "number2 = len(number) - len(number.lstrip(\"0\"))\n",
        "print(number2)"
      ],
      "metadata": {
        "id": "Qo4U61JcsDDr",
        "colab": {
          "base_uri": "https://localhost:8080/"
        },
        "outputId": "ce666863-3277-41d0-e422-c98b120f597a"
      },
      "execution_count": null,
      "outputs": [
        {
          "output_type": "stream",
          "name": "stdout",
          "text": [
            "Enter your number: 000123000\n",
            "3\n"
          ]
        }
      ]
    },
    {
      "cell_type": "code",
      "source": [
        "number = \"0123000\"\n",
        "counter = 0 #COUNTER BURADA BİR DEĞİŞKEN'DİR.\n",
        "for i in number:\n",
        "  if i == \"0\": \n",
        "     counter +=1\n",
        "  else:\n",
        "     break\n",
        "print(counter)\n"
      ],
      "metadata": {
        "id": "heXOsckAlFHA",
        "colab": {
          "base_uri": "https://localhost:8080/"
        },
        "outputId": "0a8378df-0f3e-4f38-d2f6-e62c8e5d1eba"
      },
      "execution_count": null,
      "outputs": [
        {
          "output_type": "stream",
          "name": "stdout",
          "text": [
            "1\n"
          ]
        }
      ]
    },
    {
      "cell_type": "code",
      "source": [
        "text = \"Bugün okulda #ne! yiyeceğim\"\n",
        "ilk = \"#\"\n",
        "son = \"!\"\n",
        "text.index(ilk)\n",
        "text.index(son)\n"
      ],
      "metadata": {
        "id": "quUe85MplFKt"
      },
      "execution_count": null,
      "outputs": []
    },
    {
      "cell_type": "code",
      "source": [
        "number = int(input(\"enter your number: \"))\n",
        "for i in range(11):\n",
        "    print(f\"{number} x {i} = {number * i}\")\n"
      ],
      "metadata": {
        "id": "x3S0c8zmlFPp",
        "colab": {
          "base_uri": "https://localhost:8080/"
        },
        "outputId": "8adf8095-e6ab-4238-b11d-380f470d14f7"
      },
      "execution_count": null,
      "outputs": [
        {
          "output_type": "stream",
          "name": "stdout",
          "text": [
            "enter your number: 5\n",
            "5 x 0 = 0\n",
            "5 x 1 = 5\n",
            "5 x 2 = 10\n",
            "5 x 3 = 15\n",
            "5 x 4 = 20\n",
            "5 x 5 = 25\n",
            "5 x 6 = 30\n",
            "5 x 7 = 35\n",
            "5 x 8 = 40\n",
            "5 x 9 = 45\n",
            "5 x 10 = 50\n"
          ]
        }
      ]
    },
    {
      "cell_type": "code",
      "source": [
        "sayı = int(input(\"lütfen sayı giriniz: \"))\n",
        "for i in range(11):\n",
        "  print(\"{} x {} = {}\".format(sayı,i,sayı*i))"
      ],
      "metadata": {
        "id": "rk4p7bxblFT-",
        "colab": {
          "base_uri": "https://localhost:8080/"
        },
        "outputId": "cd624013-79d2-4211-c28d-201b4045ddea"
      },
      "execution_count": null,
      "outputs": [
        {
          "output_type": "stream",
          "name": "stdout",
          "text": [
            "lütfen sayı giriniz: 5\n",
            "5 x 0 = 0\n",
            "5 x 1 = 5\n",
            "5 x 2 = 10\n",
            "5 x 3 = 15\n",
            "5 x 4 = 20\n",
            "5 x 5 = 25\n",
            "5 x 6 = 30\n",
            "5 x 7 = 35\n",
            "5 x 8 = 40\n",
            "5 x 9 = 45\n",
            "5 x 10 = 50\n"
          ]
        }
      ]
    },
    {
      "cell_type": "code",
      "source": [
        "for i in range(1, 10) :\n",
        "     print(str(i) * i)\n"
      ],
      "metadata": {
        "id": "R2HBpGwylFXF",
        "colab": {
          "base_uri": "https://localhost:8080/"
        },
        "outputId": "980e3d43-f134-41b6-b8c3-8efe74d26ed6"
      },
      "execution_count": null,
      "outputs": [
        {
          "output_type": "stream",
          "name": "stdout",
          "text": [
            "1\n",
            "22\n",
            "333\n",
            "4444\n",
            "55555\n",
            "666666\n",
            "7777777\n",
            "88888888\n",
            "999999999\n"
          ]
        }
      ]
    },
    {
      "cell_type": "code",
      "source": [
        "for i in range(1, 10) :\n",
        "     print(i * f\"{i}\")"
      ],
      "metadata": {
        "id": "AI5nA8FnlFb4",
        "colab": {
          "base_uri": "https://localhost:8080/"
        },
        "outputId": "2e5acf1a-85e8-4def-8588-30950944d246"
      },
      "execution_count": null,
      "outputs": [
        {
          "output_type": "stream",
          "name": "stdout",
          "text": [
            "1\n",
            "22\n",
            "333\n",
            "4444\n",
            "55555\n",
            "666666\n",
            "7777777\n",
            "88888888\n",
            "999999999\n"
          ]
        }
      ]
    },
    {
      "cell_type": "code",
      "source": [
        "number = [0, 1, 2, 3, 4, 5, 6, 7, 8, 9]\n",
        "for i in number:\n",
        "     if i % 2 == 0 :\n",
        "       print"
      ],
      "metadata": {
        "id": "fliLxmy7EUTS"
      },
      "execution_count": null,
      "outputs": []
    },
    {
      "cell_type": "code",
      "source": [
        "evens = []\n",
        "odds = []\n",
        "for i in range(10):\n",
        "    if i % 2 == 0:\n",
        "       evens.append(i)\n",
        "    else:\n",
        "       odds.append(i)\n",
        "print(\"evens: \", evens)\n",
        "print(\"odds: \", odds)"
      ],
      "metadata": {
        "id": "qubv3bwfEUXN",
        "colab": {
          "base_uri": "https://localhost:8080/"
        },
        "outputId": "4cf4e360-6224-463e-b703-99d378ee3239"
      },
      "execution_count": null,
      "outputs": [
        {
          "output_type": "stream",
          "name": "stdout",
          "text": [
            "evens:  [0, 2, 4, 6, 8]\n",
            "odds:  [1, 3, 5, 7, 9]\n"
          ]
        }
      ]
    },
    {
      "cell_type": "code",
      "source": [
        "example = [11, 2, 24, 61, 48, 33, 3]\n",
        "even = 0\n",
        "odd = 0\n",
        "for i in example:\n",
        "  if i % 2 == 0:\n",
        "    even +=1\n",
        "  else:\n",
        "    odd +=1\n",
        "print(\"evens count: \", even)\n",
        "print(\"odds count: \", odd)\n",
        "\n"
      ],
      "metadata": {
        "id": "pbVGYHLlEUa1",
        "colab": {
          "base_uri": "https://localhost:8080/"
        },
        "outputId": "20e603c2-a50a-420d-e649-a02fa89f5607"
      },
      "execution_count": null,
      "outputs": [
        {
          "output_type": "stream",
          "name": "stdout",
          "text": [
            "evens count:  3\n",
            "odds count:  4\n"
          ]
        }
      ]
    },
    {
      "cell_type": "code",
      "source": [
        "sum = 0\n",
        "for i in range (1,75):\n",
        "    sum +=i\n",
        "print(sum)"
      ],
      "metadata": {
        "colab": {
          "base_uri": "https://localhost:8080/"
        },
        "id": "TWjDeK5UZgMB",
        "outputId": "47701617-0fb7-435a-cf49-39fcc76069d6"
      },
      "execution_count": null,
      "outputs": [
        {
          "output_type": "stream",
          "name": "stdout",
          "text": [
            "2775\n"
          ]
        }
      ]
    },
    {
      "cell_type": "code",
      "source": [
        "names = [\"susan\", \"tom\", \"edward\"]\n",
        "mood = [\"happy\", \"sad\"]\n",
        "for i in names:\n",
        "  for ii in mood:\n",
        "      print(i, 'is', ii)"
      ],
      "metadata": {
        "colab": {
          "base_uri": "https://localhost:8080/"
        },
        "id": "MaEdXJXAZgR5",
        "outputId": "80b9e233-36e6-43c8-c8e8-24ea8d43d7c8"
      },
      "execution_count": null,
      "outputs": [
        {
          "output_type": "stream",
          "name": "stdout",
          "text": [
            "susan is happy\n",
            "susan is sad\n",
            "tom is happy\n",
            "tom is sad\n",
            "edward is happy\n",
            "edward is sad\n"
          ]
        }
      ]
    },
    {
      "cell_type": "code",
      "source": [
        "a,_, b, _ = ( 1, 2, 3, 4) #PLACEHOLDER"
      ],
      "metadata": {
        "id": "xrdxM8K0ZgX4"
      },
      "execution_count": null,
      "outputs": []
    },
    {
      "cell_type": "code",
      "source": [
        "a"
      ],
      "metadata": {
        "colab": {
          "base_uri": "https://localhost:8080/"
        },
        "id": "J7w3VmKYZgh6",
        "outputId": "9b03f825-c920-4e73-eb91-d2630dbcfd6d"
      },
      "execution_count": null,
      "outputs": [
        {
          "output_type": "execute_result",
          "data": {
            "text/plain": [
              "1"
            ]
          },
          "metadata": {},
          "execution_count": 20
        }
      ]
    },
    {
      "cell_type": "code",
      "source": [
        "largest = 0\n",
        "numbers = int(input(\"How many numbers will you enter?\"))\n"
      ],
      "metadata": {
        "id": "goH_wjM1ZgmH",
        "colab": {
          "base_uri": "https://localhost:8080/"
        },
        "outputId": "ce63caea-39c6-4d4b-eda1-1f49f847ea58"
      },
      "execution_count": null,
      "outputs": [
        {
          "name": "stdout",
          "output_type": "stream",
          "text": [
            "How many numbers will you enter?3\n"
          ]
        }
      ]
    },
    {
      "cell_type": "code",
      "source": [
        "x = \"tab\"\n",
        "x = sorted(\"tab\")\n",
        "print(x)"
      ],
      "metadata": {
        "id": "-8UersRkEUex",
        "colab": {
          "base_uri": "https://localhost:8080/"
        },
        "outputId": "7f1cd1d0-a9da-46b5-d567-376444ee24d1"
      },
      "execution_count": null,
      "outputs": [
        {
          "output_type": "stream",
          "name": "stdout",
          "text": [
            "['a', 'b', 't']\n"
          ]
        }
      ]
    },
    {
      "cell_type": "code",
      "source": [
        "liste_elemani = int(input('kaç tane değer gireceksiniz: '))\n",
        "liste = []\n",
        "for j in range(liste_elemani):\n",
        "  eleman = int(input(str(j+1)+'. elemanı giriniz: '))\n",
        "  liste.append(eleman)\n",
        "enb=liste[0]\n",
        "for i in liste:\n",
        "  if enb < i:\n",
        "    enb = i\n",
        "print(liste)\n",
        "print('en büyük eleman: ', enb) liste_elemani = int(input('kaç tane değer gireceksiniz: '))\n",
        "liste = []\n",
        "for j in range(liste_elemani):\n",
        "  eleman = int(input(str(j+1)+'. elemanı giriniz: '))\n",
        "  liste.append(eleman)\n",
        "enb = liste[0]\n",
        "for i in liste:\n",
        "  if enb < i:\n",
        "    enb = i\n",
        "print(liste)\n",
        "print('en büyük eleman: ',enb) liste_elemani = int(input('kaç tane değer gireceksiniz: '))\n",
        "liste=[]\n",
        "for j in range(liste_elemani):\n",
        "  eleman= int(input(str(j+1)+'. elemanı giriniz: '))\n",
        "  liste.append(eleman)\n",
        "enb = liste[0]\n",
        "for i in liste:\n",
        "  if enb < i:\n",
        "    enb = i\n",
        "print(liste)\n",
        "print('en büyük eleman: ', enb)"
      ],
      "metadata": {
        "id": "0IbDTjf4EUnF",
        "colab": {
          "base_uri": "https://localhost:8080/",
          "height": 130
        },
        "outputId": "95bcb4c3-e69e-4b29-e2ac-cc479f26540e"
      },
      "execution_count": null,
      "outputs": [
        {
          "output_type": "error",
          "ename": "SyntaxError",
          "evalue": "ignored",
          "traceback": [
            "\u001b[0;36m  File \u001b[0;32m\"<ipython-input-8-95fd372916cf>\"\u001b[0;36m, line \u001b[0;32m11\u001b[0m\n\u001b[0;31m    print('en büyük eleman: ', enb)liste_elemani = int(input('kaç tane değer gireceksiniz: '))\u001b[0m\n\u001b[0m                                               ^\u001b[0m\n\u001b[0;31mSyntaxError\u001b[0m\u001b[0;31m:\u001b[0m invalid syntax\n"
          ]
        }
      ]
    },
    {
      "cell_type": "code",
      "source": [
        "word = input(\"Give me a word :\")\n",
        "\n",
        "for i in word :\n",
        "    print(i, end = '' )"
      ],
      "metadata": {
        "id": "_qfDiysuZhmf",
        "colab": {
          "base_uri": "https://localhost:8080/"
        },
        "outputId": "a43dbaba-1e5f-47f5-f0ee-82bb3114f353"
      },
      "execution_count": null,
      "outputs": [
        {
          "output_type": "stream",
          "name": "stdout",
          "text": [
            "Give me a word :clarusway\n",
            "clarusway"
          ]
        }
      ]
    },
    {
      "cell_type": "code",
      "source": [
        "word = input(\"Give me a word :\")\n",
        "counter = 0\n",
        "\n",
        "for i in word :\n",
        "    counter += 1\n",
        "    if counter < len(word) :\n",
        "        i += \"-\"\n",
        "    print(i, end = \"\\n\")"
      ],
      "metadata": {
        "colab": {
          "base_uri": "https://localhost:8080/"
        },
        "id": "UWK-D8zgFRST",
        "outputId": "0057b3b3-9e02-4a93-aeee-b47d6d07936e"
      },
      "execution_count": null,
      "outputs": [
        {
          "output_type": "stream",
          "name": "stdout",
          "text": [
            "Give me a word :clarusway\n",
            "c-\n",
            "l-\n",
            "a-\n",
            "r-\n",
            "u-\n",
            "s-\n",
            "w-\n",
            "a-\n",
            "y\n"
          ]
        }
      ]
    },
    {
      "cell_type": "code",
      "source": [
        "number = int(input(\"Enter a number between 1-10 :\"))   #çarpım tablosu oluşturma\n",
        "for i in range(0, 11) :\n",
        "    print(\"{} x {} == {}\".format(number, i, number * i))                         #\"{} x {} == {}\".format(number, i, number * i)    #==#       f\"{number} x {i} = {number * i}\""
      ],
      "metadata": {
        "colab": {
          "base_uri": "https://localhost:8080/"
        },
        "id": "tjP5Gk-EFRbf",
        "outputId": "e16b544b-4890-4df4-f7c4-7a44ed21c250"
      },
      "execution_count": null,
      "outputs": [
        {
          "output_type": "stream",
          "name": "stdout",
          "text": [
            "Enter a number between 1-10 :4\n",
            "4 x 0 == 0\n",
            "4 x 1 == 4\n",
            "4 x 2 == 8\n",
            "4 x 3 == 12\n",
            "4 x 4 == 16\n",
            "4 x 5 == 20\n",
            "4 x 6 == 24\n",
            "4 x 7 == 28\n",
            "4 x 8 == 32\n",
            "4 x 9 == 36\n",
            "4 x 10 == 40\n"
          ]
        }
      ]
    },
    {
      "cell_type": "code",
      "source": [
        "print(* range(10, 1, -1))"
      ],
      "metadata": {
        "colab": {
          "base_uri": "https://localhost:8080/"
        },
        "id": "Qo0Z-N-lFRmK",
        "outputId": "8c172b3d-1c66-4e97-e9af-b58847dd9631"
      },
      "execution_count": null,
      "outputs": [
        {
          "output_type": "stream",
          "name": "stdout",
          "text": [
            "10 9 8 7 6 5 4 3 2\n"
          ]
        }
      ]
    },
    {
      "cell_type": "code",
      "source": [
        "1\n",
        "22\n",
        "333\n",
        "4444\n",
        "55555\n",
        "666666\n",
        "7777777\n",
        "88888888\n",
        "999999999"
      ],
      "metadata": {
        "id": "dVCUWUnoFR0f"
      },
      "execution_count": null,
      "outputs": []
    },
    {
      "cell_type": "code",
      "source": [
        "for i in range(10):\n",
        "  print (str(i) * i)\n"
      ],
      "metadata": {
        "colab": {
          "base_uri": "https://localhost:8080/"
        },
        "id": "NY3QNH1zFR_C",
        "outputId": "58e277ec-7567-4886-ad7b-d36d7b3b9490"
      },
      "execution_count": null,
      "outputs": [
        {
          "output_type": "stream",
          "name": "stdout",
          "text": [
            "\n",
            "1\n",
            "22\n",
            "333\n",
            "4444\n",
            "55555\n",
            "666666\n",
            "7777777\n",
            "88888888\n",
            "999999999\n"
          ]
        }
      ]
    },
    {
      "cell_type": "code",
      "source": [
        "import string"
      ],
      "metadata": {
        "id": "cILNbULmFSF1"
      },
      "execution_count": null,
      "outputs": []
    },
    {
      "cell_type": "code",
      "source": [
        "print(dir(string))"
      ],
      "metadata": {
        "id": "nbaCPqtoFSMq",
        "colab": {
          "base_uri": "https://localhost:8080/"
        },
        "outputId": "71b7514d-147e-41c9-da43-68796edf6635"
      },
      "execution_count": null,
      "outputs": [
        {
          "output_type": "stream",
          "name": "stdout",
          "text": [
            "['Formatter', 'Template', '_ChainMap', '_TemplateMetaclass', '__all__', '__builtins__', '__cached__', '__doc__', '__file__', '__loader__', '__name__', '__package__', '__spec__', '_re', '_string', 'ascii_letters', 'ascii_lowercase', 'ascii_uppercase', 'capwords', 'digits', 'hexdigits', 'octdigits', 'printable', 'punctuation', 'whitespace']\n"
          ]
        }
      ]
    },
    {
      "cell_type": "code",
      "source": [
        "rakamlar = string.digits\n",
        "harfler = string.ascii_lowercase"
      ],
      "metadata": {
        "id": "X-mpoZjQYXb2"
      },
      "execution_count": null,
      "outputs": []
    },
    {
      "cell_type": "code",
      "source": [
        "string.digits"
      ],
      "metadata": {
        "id": "AIg59xqtYXfr",
        "colab": {
          "base_uri": "https://localhost:8080/",
          "height": 36
        },
        "outputId": "abc9e152-2525-4a62-ac5b-adaed1b9892b"
      },
      "execution_count": null,
      "outputs": [
        {
          "output_type": "execute_result",
          "data": {
            "text/plain": [
              "'0123456789'"
            ],
            "application/vnd.google.colaboratory.intrinsic+json": {
              "type": "string"
            }
          },
          "metadata": {},
          "execution_count": 5
        }
      ]
    },
    {
      "cell_type": "code",
      "source": [
        "text = input(\"Enter a text here  \")\n",
        "harf, rakam = 0, 0\n",
        "for i in text.lower():\n",
        "  if i in harfler:\n",
        "    harf+=1\n",
        "  elif i in rakamlar:\n",
        "      rakam+=1\n",
        "print(\"harf : \", harf, \"rakam:  \",  rakam)\n",
        "\n",
        "\n"
      ],
      "metadata": {
        "id": "5dTtDwcVYXjj",
        "colab": {
          "base_uri": "https://localhost:8080/"
        },
        "outputId": "1343d9f3-d9e1-4240-bbe9-c80610abb7c2"
      },
      "execution_count": null,
      "outputs": [
        {
          "output_type": "stream",
          "name": "stdout",
          "text": [
            "Enter a text here  python 3.2\n",
            "harf :  6 rakam:   2\n"
          ]
        }
      ]
    },
    {
      "cell_type": "code",
      "source": [
        "string.punctuation"
      ],
      "metadata": {
        "id": "sYsG-p_CYXnl",
        "colab": {
          "base_uri": "https://localhost:8080/",
          "height": 36
        },
        "outputId": "07320dfd-2ae7-4fb7-b610-3ccc898e13ce"
      },
      "execution_count": null,
      "outputs": [
        {
          "output_type": "execute_result",
          "data": {
            "text/plain": [
              "'!\"#$%&\\'()*+,-./:;<=>?@[\\\\]^_`{|}~'"
            ],
            "application/vnd.google.colaboratory.intrinsic+json": {
              "type": "string"
            }
          },
          "metadata": {},
          "execution_count": 11
        }
      ]
    },
    {
      "cell_type": "code",
      "source": [
        "num = int(input(\"Enter a integer \"))\n",
        "toplam = 0\n",
        "num = str(num)\n",
        "for i in num: \n",
        "  toplam += int(i)\n",
        "if int(num) % toplam == 0:\n",
        "  print (True)\n",
        "else:\n",
        "  print(False)\n",
        "\n",
        "\n"
      ],
      "metadata": {
        "colab": {
          "base_uri": "https://localhost:8080/"
        },
        "id": "L3FO8Mu2Fhfs",
        "outputId": "ecfe6fa0-f983-4278-bcad-d0ca96c08b9d"
      },
      "execution_count": null,
      "outputs": [
        {
          "output_type": "stream",
          "name": "stdout",
          "text": [
            "Enter a integer 155\n",
            "False\n"
          ]
        }
      ]
    },
    {
      "cell_type": "code",
      "source": [
        "num = int(input(\"Yaprak sayısını girin: \"))\n",
        "text = \"loves me\"\n",
        "result = 0\n",
        "for i in range(1, num+1):\n",
        "    if i % 2 == 0:\n",
        "       res = text + \"not\"\n",
        "    else: \n",
        "        res = text\n",
        "    if i == num:\n",
        "        res = res.upper()\n",
        "   result += res + ', '\n",
        "result = result.rstrip(\", \")\n",
        "print(result)\n",
        "\n",
        "\n",
        "\n",
        "\n"
      ],
      "metadata": {
        "colab": {
          "base_uri": "https://localhost:8080/",
          "height": 130
        },
        "id": "x46CdwZPFhrg",
        "outputId": "6899179f-f41c-42d5-cb78-898f2c78d2d5"
      },
      "execution_count": null,
      "outputs": [
        {
          "output_type": "error",
          "ename": "IndentationError",
          "evalue": "ignored",
          "traceback": [
            "\u001b[0;36m  File \u001b[0;32m\"<ipython-input-18-2116ea0c2129>\"\u001b[0;36m, line \u001b[0;32m11\u001b[0m\n\u001b[0;31m    result += res + ', '\u001b[0m\n\u001b[0m                        ^\u001b[0m\n\u001b[0;31mIndentationError\u001b[0m\u001b[0;31m:\u001b[0m unindent does not match any outer indentation level\n"
          ]
        }
      ]
    },
    {
      "cell_type": "code",
      "source": [
        "string = \"ali\"\n",
        "string.index(\"i\")"
      ],
      "metadata": {
        "colab": {
          "base_uri": "https://localhost:8080/"
        },
        "id": "0f4OJRTbFh0A",
        "outputId": "aec13a84-7334-44dd-c04c-14a7d4a5cb28"
      },
      "execution_count": null,
      "outputs": [
        {
          "output_type": "execute_result",
          "data": {
            "text/plain": [
              "2"
            ]
          },
          "metadata": {},
          "execution_count": 19
        }
      ]
    },
    {
      "cell_type": "code",
      "source": [
        "L1 = []\n",
        "L1.append([1, [2, 3], 4])\n",
        "L1.extend([7, 8, 9])\n",
        "#print(L1[0][1][1] + L1[2])\n",
        "print(L1)"
      ],
      "metadata": {
        "id": "1K95icyELhpS",
        "colab": {
          "base_uri": "https://localhost:8080/"
        },
        "outputId": "24c35eba-da84-45ed-df11-753a8a3fadc9"
      },
      "execution_count": null,
      "outputs": [
        {
          "output_type": "stream",
          "name": "stdout",
          "text": [
            "[[1, [2, 3], 4], 7, 8, 9]\n"
          ]
        }
      ]
    },
    {
      "cell_type": "code",
      "source": [
        "a=[1, 2, 3, 4]\n",
        "b=[sum(a[0:x+1]) for x in range(0,4)]\n",
        "\n",
        "\n",
        "print(b)"
      ],
      "metadata": {
        "id": "gWgPwhWiLhxV"
      },
      "execution_count": null,
      "outputs": []
    },
    {
      "cell_type": "code",
      "source": [
        "T = (1, 2, 3, 4, 5, 6, 7, 8)\n",
        "\n",
        "print(T[T.index(5)], end = \" \")   #5, \n",
        "\n",
        "print(T[T[T[6]-3]-6])\n"
      ],
      "metadata": {
        "id": "dLlsEBhLLiEV",
        "colab": {
          "base_uri": "https://localhost:8080/"
        },
        "outputId": "a3e5f815-7584-4d83-fa5e-623bab50545a"
      },
      "execution_count": null,
      "outputs": [
        {
          "output_type": "stream",
          "name": "stdout",
          "text": [
            "5 8\n"
          ]
        }
      ]
    },
    {
      "cell_type": "code",
      "source": [
        "set1 = {1, 2, 3}\n",
        "set2 = set1.copy()\n",
        "set2.add(4)\n",
        "print(set1)"
      ],
      "metadata": {
        "id": "EXa1mA16LiOq",
        "colab": {
          "base_uri": "https://localhost:8080/"
        },
        "outputId": "406106d1-56c0-4c9a-a2a9-373c8bbc7461"
      },
      "execution_count": null,
      "outputs": [
        {
          "output_type": "stream",
          "name": "stdout",
          "text": [
            "{1, 2, 3}\n"
          ]
        }
      ]
    },
    {
      "cell_type": "code",
      "source": [
        "x = ['apple', 'banana', 'cherry']\n",
        "a = enumerate(x)\n",
        "print(a)"
      ],
      "metadata": {
        "id": "bDu9xVtwLisf",
        "colab": {
          "base_uri": "https://localhost:8080/"
        },
        "outputId": "d16c7274-e7da-4d3a-9b56-3cb58fdb5fc6"
      },
      "execution_count": null,
      "outputs": [
        {
          "output_type": "stream",
          "name": "stdout",
          "text": [
            "<enumerate object at 0x7f17d63d6230>\n"
          ]
        }
      ]
    },
    {
      "cell_type": "code",
      "source": [
        "def my_function(x, y) :    #BURADA BİR FONKSİYON TANIMLADIK. \n",
        "     print(x+y)\n"
      ],
      "metadata": {
        "id": "79BUCzWvmV2k"
      },
      "execution_count": null,
      "outputs": []
    },
    {
      "cell_type": "code",
      "source": [
        "x = 3\n",
        "y = 4\n",
        "my_function(x, y)\n",
        "  "
      ],
      "metadata": {
        "id": "QxipXDnCmWCL",
        "colab": {
          "base_uri": "https://localhost:8080/"
        },
        "outputId": "f515c91f-3ff2-41fa-d87d-b2826a7f5ebe"
      },
      "execution_count": null,
      "outputs": [
        {
          "output_type": "stream",
          "name": "stdout",
          "text": [
            "7\n"
          ]
        }
      ]
    },
    {
      "cell_type": "code",
      "source": [
        "def multiply (a, b) :\n",
        "  print(a * b)"
      ],
      "metadata": {
        "id": "NdUfb_5VmWOR"
      },
      "execution_count": null,
      "outputs": []
    },
    {
      "cell_type": "code",
      "source": [
        "multiply (2, 3)"
      ],
      "metadata": {
        "id": "Nnh1HieXmWa7",
        "colab": {
          "base_uri": "https://localhost:8080/"
        },
        "outputId": "33c5041e-0410-4a8f-a9c1-6488f440bddc"
      },
      "execution_count": null,
      "outputs": [
        {
          "output_type": "stream",
          "name": "stdout",
          "text": [
            "6\n"
          ]
        }
      ]
    },
    {
      "cell_type": "code",
      "source": [
        "multiply('amazing ', 3) \n"
      ],
      "metadata": {
        "colab": {
          "base_uri": "https://localhost:8080/"
        },
        "id": "Z0RN9lmHcOBb",
        "outputId": "c5f3e7e1-5ca2-439a-d0a3-826cbb7f4a90"
      },
      "execution_count": null,
      "outputs": [
        {
          "output_type": "stream",
          "name": "stdout",
          "text": [
            "amazing amazing amazing \n"
          ]
        }
      ]
    },
    {
      "cell_type": "code",
      "source": [
        "def motto() :\n",
        "    print(\"Don't hesitate to reinvent yourself!\")"
      ],
      "metadata": {
        "id": "VcZdG4DocOIq"
      },
      "execution_count": null,
      "outputs": []
    },
    {
      "cell_type": "code",
      "source": [
        "motto()"
      ],
      "metadata": {
        "colab": {
          "base_uri": "https://localhost:8080/"
        },
        "id": "g6LQzd_7cOSa",
        "outputId": "f4ab8925-d952-4e0c-aeb9-ab5b70c79d8c"
      },
      "execution_count": null,
      "outputs": [
        {
          "output_type": "stream",
          "name": "stdout",
          "text": [
            "Don't hesitate to reinvent yourself!\n"
          ]
        }
      ]
    },
    {
      "cell_type": "code",
      "source": [
        "def function(a, b):\n",
        "    return a + b\n",
        "    \n",
        "function(2 ,3)"
      ],
      "metadata": {
        "colab": {
          "base_uri": "https://localhost:8080/"
        },
        "id": "Qkoej9XrcOXA",
        "outputId": "b664e218-cc79-4f00-a2db-723aff570f0b"
      },
      "execution_count": null,
      "outputs": [
        {
          "output_type": "execute_result",
          "data": {
            "text/plain": [
              "5"
            ]
          },
          "metadata": {},
          "execution_count": 21
        }
      ]
    },
    {
      "cell_type": "code",
      "source": [
        "print(type(function(2 ,3)))"
      ],
      "metadata": {
        "colab": {
          "base_uri": "https://localhost:8080/"
        },
        "id": "mSwANFv3cOcH",
        "outputId": "0f6ea438-482b-4a38-e0e3-33f2337baf7b"
      },
      "execution_count": null,
      "outputs": [
        {
          "output_type": "stream",
          "name": "stdout",
          "text": [
            "<class 'int'>\n"
          ]
        }
      ]
    },
    {
      "cell_type": "code",
      "source": [
        "list = [1, 2, 3, 4, 5]\n",
        "newlist = []\n",
        "for i in list:\n",
        "     if i % 2 != 0 :\n",
        "        newlist.append(i ** 2)\n",
        "print(newlist)\n",
        "      "
      ],
      "metadata": {
        "colab": {
          "base_uri": "https://localhost:8080/"
        },
        "id": "MB-RsvM9cOjC",
        "outputId": "b0403af7-6c47-40de-ec93-e58112b8147f"
      },
      "execution_count": null,
      "outputs": [
        {
          "output_type": "stream",
          "name": "stdout",
          "text": [
            "[1, 9, 25]\n"
          ]
        }
      ]
    },
    {
      "cell_type": "code",
      "source": [
        "[i**2 for i in list]"
      ],
      "metadata": {
        "colab": {
          "base_uri": "https://localhost:8080/"
        },
        "id": "1LGXvWURkqa6",
        "outputId": "df9f4973-c00e-4b1b-8acf-c3cf1cc2ab85"
      },
      "execution_count": null,
      "outputs": [
        {
          "output_type": "execute_result",
          "data": {
            "text/plain": [
              "[1, 4, 9, 16, 25]"
            ]
          },
          "metadata": {},
          "execution_count": 25
        }
      ]
    },
    {
      "cell_type": "code",
      "source": [
        "[i**2 for i in list  if i % 2 != 0]"
      ],
      "metadata": {
        "colab": {
          "base_uri": "https://localhost:8080/"
        },
        "id": "8a5NBOFHkqgE",
        "outputId": "1beb74be-ac37-429e-de3c-abc25f2a91bc"
      },
      "execution_count": null,
      "outputs": [
        {
          "output_type": "execute_result",
          "data": {
            "text/plain": [
              "[1, 9, 25]"
            ]
          },
          "metadata": {},
          "execution_count": 26
        }
      ]
    },
    {
      "cell_type": "code",
      "source": [
        "[1, 2, 3] + [\"ahmet\"] "
      ],
      "metadata": {
        "colab": {
          "base_uri": "https://localhost:8080/"
        },
        "id": "urEFwXxXkqph",
        "outputId": "ab907f5e-922e-4059-83cf-248e55e42f63"
      },
      "execution_count": null,
      "outputs": [
        {
          "output_type": "execute_result",
          "data": {
            "text/plain": [
              "[1, 2, 3, 'ahmet']"
            ]
          },
          "metadata": {},
          "execution_count": 31
        }
      ]
    },
    {
      "cell_type": "code",
      "source": [
        "test2 = [(1,2,11), (3,4,12), (5,6,13)]\n",
        "for i, j, t in test2:\n",
        "    print(i, j, t)"
      ],
      "metadata": {
        "colab": {
          "base_uri": "https://localhost:8080/"
        },
        "id": "xZ_WlGedkquT",
        "outputId": "cca44c58-bad9-4602-a4c8-8cdca0da7150"
      },
      "execution_count": null,
      "outputs": [
        {
          "output_type": "stream",
          "name": "stdout",
          "text": [
            "1 2 11\n",
            "3 4 12\n",
            "5 6 13\n"
          ]
        }
      ]
    },
    {
      "cell_type": "code",
      "source": [
        " print(* str(\"100\"))"
      ],
      "metadata": {
        "colab": {
          "base_uri": "https://localhost:8080/"
        },
        "id": "8JkNafC3lnSq",
        "outputId": "086c4413-d7c7-47f6-b96a-fced09217799"
      },
      "execution_count": null,
      "outputs": [
        {
          "output_type": "stream",
          "name": "stdout",
          "text": [
            "1 0 0\n"
          ]
        }
      ]
    },
    {
      "cell_type": "code",
      "source": [
        "number = int(input(\"Enter a number between 1-10 : \"))\n",
        "for i in range(11) :\n",
        "    print(f\"{number} x {i} = {number * i}\")\n",
        "    "
      ],
      "metadata": {
        "colab": {
          "base_uri": "https://localhost:8080/"
        },
        "id": "lgYhBzA1lnWu",
        "outputId": "00277d00-8928-415a-b1e4-e6852ae54569"
      },
      "execution_count": null,
      "outputs": [
        {
          "output_type": "stream",
          "name": "stdout",
          "text": [
            "Enter a number between 1-10 : 5\n",
            "5 x 0 = 0\n",
            "5 x 1 = 5\n",
            "5 x 2 = 10\n",
            "5 x 3 = 15\n",
            "5 x 4 = 20\n",
            "5 x 5 = 25\n",
            "5 x 6 = 30\n",
            "5 x 7 = 35\n",
            "5 x 8 = 40\n",
            "5 x 9 = 45\n",
            "5 x 10 = 50\n"
          ]
        }
      ]
    },
    {
      "cell_type": "code",
      "source": [
        "is_primenumber= int(input('Enter a number: '))\n",
        "asalmi=True\n",
        "i = 2\n",
        "while i < is_primenumber :    \n",
        "    if is_primenumber % i == 0 :\n",
        "      asalmi=False\n",
        "      break\n",
        "    i+=1\n",
        "if asalmi == True:\n",
        "    print(is_primenumber,'is a prime number.')\n",
        "else:\n",
        "  print(is_primenumber,'is not a prime number.')"
      ],
      "metadata": {
        "id": "oq4yF42Hlnbf",
        "colab": {
          "base_uri": "https://localhost:8080/"
        },
        "outputId": "ed21611e-71df-4d7e-a479-833685e90dbd"
      },
      "execution_count": null,
      "outputs": [
        {
          "output_type": "stream",
          "name": "stdout",
          "text": [
            "Enter a number: 39\n",
            "39 is not a prime number.\n"
          ]
        }
      ]
    },
    {
      "cell_type": "code",
      "source": [
        ""
      ],
      "metadata": {
        "id": "MNPuwVorlngj"
      },
      "execution_count": null,
      "outputs": []
    },
    {
      "cell_type": "code",
      "source": [
        "num=int(input(\"Enter any number please :\"))    # prime number ödevi\n",
        "if num > 1:  \n",
        "   for i in range(2, num):\n",
        "       if (num % i) == 0:\n",
        "           print(num,\"Asal sayı değildir\")    \n",
        "           break\n",
        "   else:\n",
        "       print(num,\"bir asal sayıdır\")\n",
        "       \n",
        "else:\n",
        "   print(num,\"asal sayı değildir.\")"
      ],
      "metadata": {
        "id": "9Fp8c4zDlnpc",
        "colab": {
          "base_uri": "https://localhost:8080/"
        },
        "outputId": "6a1f9b12-dae8-465f-cf0c-ebca3cb7d9ac"
      },
      "execution_count": null,
      "outputs": [
        {
          "output_type": "stream",
          "name": "stdout",
          "text": [
            "Enter any number please :19\n",
            "19 bir asal sayıdır\n"
          ]
        }
      ]
    }
  ]
}